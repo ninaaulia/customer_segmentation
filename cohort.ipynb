{
  "cells": [
    {
      "cell_type": "markdown",
      "metadata": {
        "id": "view-in-github",
        "colab_type": "text"
      },
      "source": [
        "<a href=\"https://colab.research.google.com/github/ninaaulia/customer_segmentation/blob/main/cohort.ipynb\" target=\"_parent\"><img src=\"https://colab.research.google.com/assets/colab-badge.svg\" alt=\"Open In Colab\"/></a>"
      ]
    },
    {
      "cell_type": "markdown",
      "id": "572abc2a-4881-4035-a977-fe6be71e3f64",
      "metadata": {
        "id": "572abc2a-4881-4035-a977-fe6be71e3f64"
      },
      "source": [
        "# **Customer Segmentation**"
      ]
    },
    {
      "cell_type": "markdown",
      "id": "7a31cbc2-eb23-4b24-9a23-b57116a1483f",
      "metadata": {
        "id": "7a31cbc2-eb23-4b24-9a23-b57116a1483f"
      },
      "source": [
        "# *A. Cohort Analysis*"
      ]
    },
    {
      "cell_type": "code",
      "execution_count": null,
      "id": "2397909f-336a-4de1-8161-fe4fef25979c",
      "metadata": {
        "id": "2397909f-336a-4de1-8161-fe4fef25979c"
      },
      "outputs": [],
      "source": [
        "import pandas as pd\n",
        "import matplotlib.pyplot as plt\n",
        "import seaborn as sns\n",
        "import numpy as np\n",
        "import datetime as dt\n",
        "\n",
        "sns.set()"
      ]
    },
    {
      "cell_type": "code",
      "execution_count": null,
      "id": "4dbf0349-8d88-42b0-84d1-6c87fbbc2874",
      "metadata": {
        "id": "4dbf0349-8d88-42b0-84d1-6c87fbbc2874",
        "outputId": "7bb2af5c-6286-4774-f79d-21c6a8927c7c"
      },
      "outputs": [
        {
          "data": {
            "text/html": [
              "<div>\n",
              "<style scoped>\n",
              "    .dataframe tbody tr th:only-of-type {\n",
              "        vertical-align: middle;\n",
              "    }\n",
              "\n",
              "    .dataframe tbody tr th {\n",
              "        vertical-align: top;\n",
              "    }\n",
              "\n",
              "    .dataframe thead th {\n",
              "        text-align: right;\n",
              "    }\n",
              "</style>\n",
              "<table border=\"1\" class=\"dataframe\">\n",
              "  <thead>\n",
              "    <tr style=\"text-align: right;\">\n",
              "      <th></th>\n",
              "      <th>Unnamed: 0</th>\n",
              "      <th>InvoiceNo</th>\n",
              "      <th>StockCode</th>\n",
              "      <th>Description</th>\n",
              "      <th>Quantity</th>\n",
              "      <th>InvoiceDate</th>\n",
              "      <th>UnitPrice</th>\n",
              "      <th>CustomerID</th>\n",
              "      <th>Country</th>\n",
              "    </tr>\n",
              "  </thead>\n",
              "  <tbody>\n",
              "    <tr>\n",
              "      <th>0</th>\n",
              "      <td>416792</td>\n",
              "      <td>572558</td>\n",
              "      <td>22745</td>\n",
              "      <td>POPPY'S PLAYHOUSE BEDROOM</td>\n",
              "      <td>6</td>\n",
              "      <td>2011-10-25 08:26:00</td>\n",
              "      <td>2.10</td>\n",
              "      <td>14286</td>\n",
              "      <td>United Kingdom</td>\n",
              "    </tr>\n",
              "    <tr>\n",
              "      <th>1</th>\n",
              "      <td>482904</td>\n",
              "      <td>577485</td>\n",
              "      <td>23196</td>\n",
              "      <td>VINTAGE LEAF MAGNETIC NOTEPAD</td>\n",
              "      <td>1</td>\n",
              "      <td>2011-11-20 11:56:00</td>\n",
              "      <td>1.45</td>\n",
              "      <td>16360</td>\n",
              "      <td>United Kingdom</td>\n",
              "    </tr>\n",
              "    <tr>\n",
              "      <th>2</th>\n",
              "      <td>263743</td>\n",
              "      <td>560034</td>\n",
              "      <td>23299</td>\n",
              "      <td>FOOD COVER WITH BEADS SET 2</td>\n",
              "      <td>6</td>\n",
              "      <td>2011-07-14 13:35:00</td>\n",
              "      <td>3.75</td>\n",
              "      <td>13933</td>\n",
              "      <td>United Kingdom</td>\n",
              "    </tr>\n",
              "    <tr>\n",
              "      <th>3</th>\n",
              "      <td>495549</td>\n",
              "      <td>578307</td>\n",
              "      <td>72349B</td>\n",
              "      <td>SET/6 PURPLE BUTTERFLY T-LIGHTS</td>\n",
              "      <td>1</td>\n",
              "      <td>2011-11-23 15:53:00</td>\n",
              "      <td>2.10</td>\n",
              "      <td>17290</td>\n",
              "      <td>United Kingdom</td>\n",
              "    </tr>\n",
              "    <tr>\n",
              "      <th>4</th>\n",
              "      <td>204384</td>\n",
              "      <td>554656</td>\n",
              "      <td>21756</td>\n",
              "      <td>BATH BUILDING BLOCK WORD</td>\n",
              "      <td>3</td>\n",
              "      <td>2011-05-25 13:36:00</td>\n",
              "      <td>5.95</td>\n",
              "      <td>17663</td>\n",
              "      <td>United Kingdom</td>\n",
              "    </tr>\n",
              "  </tbody>\n",
              "</table>\n",
              "</div>"
            ],
            "text/plain": [
              "   Unnamed: 0  InvoiceNo StockCode                      Description  Quantity  \\\n",
              "0      416792     572558     22745       POPPY'S PLAYHOUSE BEDROOM          6   \n",
              "1      482904     577485     23196    VINTAGE LEAF MAGNETIC NOTEPAD         1   \n",
              "2      263743     560034     23299     FOOD COVER WITH BEADS SET 2          6   \n",
              "3      495549     578307    72349B  SET/6 PURPLE BUTTERFLY T-LIGHTS         1   \n",
              "4      204384     554656     21756         BATH BUILDING BLOCK WORD         3   \n",
              "\n",
              "           InvoiceDate  UnitPrice  CustomerID         Country  \n",
              "0  2011-10-25 08:26:00       2.10       14286  United Kingdom  \n",
              "1  2011-11-20 11:56:00       1.45       16360  United Kingdom  \n",
              "2  2011-07-14 13:35:00       3.75       13933  United Kingdom  \n",
              "3  2011-11-23 15:53:00       2.10       17290  United Kingdom  \n",
              "4  2011-05-25 13:36:00       5.95       17663  United Kingdom  "
            ]
          },
          "execution_count": 2,
          "metadata": {},
          "output_type": "execute_result"
        }
      ],
      "source": [
        "df = pd.read_csv('online.csv')\n",
        "df.head()"
      ]
    },
    {
      "cell_type": "code",
      "execution_count": null,
      "id": "74e43644-3b40-4e39-8be9-d5f6435ab0e7",
      "metadata": {
        "id": "74e43644-3b40-4e39-8be9-d5f6435ab0e7",
        "outputId": "87147c8d-d1ab-4acd-d4f1-53f1295d1594"
      },
      "outputs": [
        {
          "data": {
            "text/plain": [
              "(70864, 9)"
            ]
          },
          "execution_count": 3,
          "metadata": {},
          "output_type": "execute_result"
        }
      ],
      "source": [
        "df.shape"
      ]
    },
    {
      "cell_type": "code",
      "execution_count": null,
      "id": "a9977957-3db8-4520-a55e-c37f82e55ba1",
      "metadata": {
        "id": "a9977957-3db8-4520-a55e-c37f82e55ba1",
        "outputId": "f93754f1-7ae6-4ceb-9f4d-ef04b6a327a0"
      },
      "outputs": [
        {
          "data": {
            "text/plain": [
              "Unnamed: 0     0\n",
              "InvoiceNo      0\n",
              "StockCode      0\n",
              "Description    0\n",
              "Quantity       0\n",
              "InvoiceDate    0\n",
              "UnitPrice      0\n",
              "CustomerID     0\n",
              "Country        0\n",
              "dtype: int64"
            ]
          },
          "execution_count": 4,
          "metadata": {},
          "output_type": "execute_result"
        }
      ],
      "source": [
        "df.isnull().sum()"
      ]
    },
    {
      "cell_type": "code",
      "execution_count": null,
      "id": "e884f4f6-a6ef-4967-a96a-9bb6fe3a72f9",
      "metadata": {
        "id": "e884f4f6-a6ef-4967-a96a-9bb6fe3a72f9",
        "outputId": "0e04b589-e210-4656-871b-6be1885e9e7d"
      },
      "outputs": [
        {
          "data": {
            "text/html": [
              "<div>\n",
              "<style scoped>\n",
              "    .dataframe tbody tr th:only-of-type {\n",
              "        vertical-align: middle;\n",
              "    }\n",
              "\n",
              "    .dataframe tbody tr th {\n",
              "        vertical-align: top;\n",
              "    }\n",
              "\n",
              "    .dataframe thead th {\n",
              "        text-align: right;\n",
              "    }\n",
              "</style>\n",
              "<table border=\"1\" class=\"dataframe\">\n",
              "  <thead>\n",
              "    <tr style=\"text-align: right;\">\n",
              "      <th></th>\n",
              "      <th>InvoiceNo</th>\n",
              "      <th>Quantity</th>\n",
              "      <th>UnitPrice</th>\n",
              "      <th>CustomerID</th>\n",
              "    </tr>\n",
              "  </thead>\n",
              "  <tbody>\n",
              "    <tr>\n",
              "      <th>count</th>\n",
              "      <td>70864.000000</td>\n",
              "      <td>70864.000000</td>\n",
              "      <td>70864.000000</td>\n",
              "      <td>70864.00000</td>\n",
              "    </tr>\n",
              "    <tr>\n",
              "      <th>mean</th>\n",
              "      <td>560639.843136</td>\n",
              "      <td>11.511233</td>\n",
              "      <td>3.063033</td>\n",
              "      <td>15552.19790</td>\n",
              "    </tr>\n",
              "    <tr>\n",
              "      <th>std</th>\n",
              "      <td>13176.494003</td>\n",
              "      <td>41.017582</td>\n",
              "      <td>31.894970</td>\n",
              "      <td>1595.50593</td>\n",
              "    </tr>\n",
              "    <tr>\n",
              "      <th>min</th>\n",
              "      <td>536365.000000</td>\n",
              "      <td>1.000000</td>\n",
              "      <td>0.001000</td>\n",
              "      <td>12747.00000</td>\n",
              "    </tr>\n",
              "    <tr>\n",
              "      <th>25%</th>\n",
              "      <td>549128.000000</td>\n",
              "      <td>2.000000</td>\n",
              "      <td>1.250000</td>\n",
              "      <td>14194.00000</td>\n",
              "    </tr>\n",
              "    <tr>\n",
              "      <th>50%</th>\n",
              "      <td>562012.500000</td>\n",
              "      <td>4.000000</td>\n",
              "      <td>1.950000</td>\n",
              "      <td>15525.00000</td>\n",
              "    </tr>\n",
              "    <tr>\n",
              "      <th>75%</th>\n",
              "      <td>572283.000000</td>\n",
              "      <td>12.000000</td>\n",
              "      <td>3.750000</td>\n",
              "      <td>16931.00000</td>\n",
              "    </tr>\n",
              "    <tr>\n",
              "      <th>max</th>\n",
              "      <td>581586.000000</td>\n",
              "      <td>4300.000000</td>\n",
              "      <td>8142.750000</td>\n",
              "      <td>18287.00000</td>\n",
              "    </tr>\n",
              "  </tbody>\n",
              "</table>\n",
              "</div>"
            ],
            "text/plain": [
              "           InvoiceNo      Quantity     UnitPrice   CustomerID\n",
              "count   70864.000000  70864.000000  70864.000000  70864.00000\n",
              "mean   560639.843136     11.511233      3.063033  15552.19790\n",
              "std     13176.494003     41.017582     31.894970   1595.50593\n",
              "min    536365.000000      1.000000      0.001000  12747.00000\n",
              "25%    549128.000000      2.000000      1.250000  14194.00000\n",
              "50%    562012.500000      4.000000      1.950000  15525.00000\n",
              "75%    572283.000000     12.000000      3.750000  16931.00000\n",
              "max    581586.000000   4300.000000   8142.750000  18287.00000"
            ]
          },
          "execution_count": 5,
          "metadata": {},
          "output_type": "execute_result"
        }
      ],
      "source": [
        "df.drop('Unnamed: 0', inplace = True, axis = 1)\n",
        "df.describe()"
      ]
    },
    {
      "cell_type": "code",
      "execution_count": null,
      "id": "8d45f0d5-064d-42a2-8dfb-fcaf616dc279",
      "metadata": {
        "id": "8d45f0d5-064d-42a2-8dfb-fcaf616dc279",
        "outputId": "bcafe494-ff57-4f14-e443-74b70ae1de92"
      },
      "outputs": [
        {
          "name": "stdout",
          "output_type": "stream",
          "text": [
            "<class 'pandas.core.frame.DataFrame'>\n",
            "RangeIndex: 70864 entries, 0 to 70863\n",
            "Data columns (total 8 columns):\n",
            "InvoiceNo      70864 non-null int64\n",
            "StockCode      70864 non-null object\n",
            "Description    70864 non-null object\n",
            "Quantity       70864 non-null int64\n",
            "InvoiceDate    70864 non-null datetime64[ns]\n",
            "UnitPrice      70864 non-null float64\n",
            "CustomerID     70864 non-null int64\n",
            "Country        70864 non-null object\n",
            "dtypes: datetime64[ns](1), float64(1), int64(3), object(3)\n",
            "memory usage: 4.3+ MB\n"
          ]
        }
      ],
      "source": [
        "df['InvoiceDate'] = df['InvoiceDate'].astype('datetime64[ns]') #convert datatype 'InvoiceDate' to datetime\n",
        "df.info()"
      ]
    },
    {
      "cell_type": "code",
      "execution_count": null,
      "id": "a9eddbf2-3db0-4702-bb44-8c959b3de754",
      "metadata": {
        "id": "a9eddbf2-3db0-4702-bb44-8c959b3de754",
        "outputId": "5539fa6e-b17b-4329-b809-0e28d58a55ae"
      },
      "outputs": [
        {
          "name": "stdout",
          "output_type": "stream",
          "text": [
            "Min Date 2010-12-01 08:26:00\n",
            "Max Date 2011-12-09 12:49:00\n"
          ]
        }
      ],
      "source": [
        "print('Min Date',  df['InvoiceDate'].min())\n",
        "print('Max Date',  df['InvoiceDate'].max())"
      ]
    },
    {
      "cell_type": "markdown",
      "id": "78952c48-b071-460d-932b-417aa493f696",
      "metadata": {
        "id": "78952c48-b071-460d-932b-417aa493f696"
      },
      "source": [
        "## Cohort Analysis"
      ]
    },
    {
      "cell_type": "markdown",
      "id": "fe3bbd5a-a84b-4cfc-b153-ac0a95735543",
      "metadata": {
        "id": "fe3bbd5a-a84b-4cfc-b153-ac0a95735543"
      },
      "source": [
        "first step is create monthly cohorts based on the month each customer has made their first transaction"
      ]
    },
    {
      "cell_type": "code",
      "execution_count": null,
      "id": "c167d446-b8dc-4cad-9d4a-979b3597288c",
      "metadata": {
        "id": "c167d446-b8dc-4cad-9d4a-979b3597288c",
        "outputId": "d4ccbaef-ca7c-4b36-bdf0-f2bed50d950e"
      },
      "outputs": [
        {
          "data": {
            "text/html": [
              "<div>\n",
              "<style scoped>\n",
              "    .dataframe tbody tr th:only-of-type {\n",
              "        vertical-align: middle;\n",
              "    }\n",
              "\n",
              "    .dataframe tbody tr th {\n",
              "        vertical-align: top;\n",
              "    }\n",
              "\n",
              "    .dataframe thead th {\n",
              "        text-align: right;\n",
              "    }\n",
              "</style>\n",
              "<table border=\"1\" class=\"dataframe\">\n",
              "  <thead>\n",
              "    <tr style=\"text-align: right;\">\n",
              "      <th></th>\n",
              "      <th>InvoiceNo</th>\n",
              "      <th>StockCode</th>\n",
              "      <th>Description</th>\n",
              "      <th>Quantity</th>\n",
              "      <th>InvoiceDate</th>\n",
              "      <th>UnitPrice</th>\n",
              "      <th>CustomerID</th>\n",
              "      <th>Country</th>\n",
              "      <th>InvoiceMonth</th>\n",
              "      <th>CohortMonth</th>\n",
              "    </tr>\n",
              "  </thead>\n",
              "  <tbody>\n",
              "    <tr>\n",
              "      <th>0</th>\n",
              "      <td>572558</td>\n",
              "      <td>22745</td>\n",
              "      <td>POPPY'S PLAYHOUSE BEDROOM</td>\n",
              "      <td>6</td>\n",
              "      <td>2011-10-25 08:26:00</td>\n",
              "      <td>2.10</td>\n",
              "      <td>14286</td>\n",
              "      <td>United Kingdom</td>\n",
              "      <td>2011-10-01</td>\n",
              "      <td>2011-04-01</td>\n",
              "    </tr>\n",
              "    <tr>\n",
              "      <th>1</th>\n",
              "      <td>577485</td>\n",
              "      <td>23196</td>\n",
              "      <td>VINTAGE LEAF MAGNETIC NOTEPAD</td>\n",
              "      <td>1</td>\n",
              "      <td>2011-11-20 11:56:00</td>\n",
              "      <td>1.45</td>\n",
              "      <td>16360</td>\n",
              "      <td>United Kingdom</td>\n",
              "      <td>2011-11-01</td>\n",
              "      <td>2011-09-01</td>\n",
              "    </tr>\n",
              "    <tr>\n",
              "      <th>2</th>\n",
              "      <td>560034</td>\n",
              "      <td>23299</td>\n",
              "      <td>FOOD COVER WITH BEADS SET 2</td>\n",
              "      <td>6</td>\n",
              "      <td>2011-07-14 13:35:00</td>\n",
              "      <td>3.75</td>\n",
              "      <td>13933</td>\n",
              "      <td>United Kingdom</td>\n",
              "      <td>2011-07-01</td>\n",
              "      <td>2011-07-01</td>\n",
              "    </tr>\n",
              "    <tr>\n",
              "      <th>3</th>\n",
              "      <td>578307</td>\n",
              "      <td>72349B</td>\n",
              "      <td>SET/6 PURPLE BUTTERFLY T-LIGHTS</td>\n",
              "      <td>1</td>\n",
              "      <td>2011-11-23 15:53:00</td>\n",
              "      <td>2.10</td>\n",
              "      <td>17290</td>\n",
              "      <td>United Kingdom</td>\n",
              "      <td>2011-11-01</td>\n",
              "      <td>2011-11-01</td>\n",
              "    </tr>\n",
              "    <tr>\n",
              "      <th>4</th>\n",
              "      <td>554656</td>\n",
              "      <td>21756</td>\n",
              "      <td>BATH BUILDING BLOCK WORD</td>\n",
              "      <td>3</td>\n",
              "      <td>2011-05-25 13:36:00</td>\n",
              "      <td>5.95</td>\n",
              "      <td>17663</td>\n",
              "      <td>United Kingdom</td>\n",
              "      <td>2011-05-01</td>\n",
              "      <td>2011-02-01</td>\n",
              "    </tr>\n",
              "  </tbody>\n",
              "</table>\n",
              "</div>"
            ],
            "text/plain": [
              "   InvoiceNo StockCode                      Description  Quantity  \\\n",
              "0     572558     22745       POPPY'S PLAYHOUSE BEDROOM          6   \n",
              "1     577485     23196    VINTAGE LEAF MAGNETIC NOTEPAD         1   \n",
              "2     560034     23299     FOOD COVER WITH BEADS SET 2          6   \n",
              "3     578307    72349B  SET/6 PURPLE BUTTERFLY T-LIGHTS         1   \n",
              "4     554656     21756         BATH BUILDING BLOCK WORD         3   \n",
              "\n",
              "          InvoiceDate  UnitPrice  CustomerID         Country InvoiceMonth  \\\n",
              "0 2011-10-25 08:26:00       2.10       14286  United Kingdom   2011-10-01   \n",
              "1 2011-11-20 11:56:00       1.45       16360  United Kingdom   2011-11-01   \n",
              "2 2011-07-14 13:35:00       3.75       13933  United Kingdom   2011-07-01   \n",
              "3 2011-11-23 15:53:00       2.10       17290  United Kingdom   2011-11-01   \n",
              "4 2011-05-25 13:36:00       5.95       17663  United Kingdom   2011-05-01   \n",
              "\n",
              "  CohortMonth  \n",
              "0  2011-04-01  \n",
              "1  2011-09-01  \n",
              "2  2011-07-01  \n",
              "3  2011-11-01  \n",
              "4  2011-02-01  "
            ]
          },
          "execution_count": 8,
          "metadata": {},
          "output_type": "execute_result"
        }
      ],
      "source": [
        "# function for parse the date\n",
        "def get_month(x):\n",
        "    return dt.datetime(x.year, x.month, 1)\n",
        "\n",
        "# create InvoiceMonth column\n",
        "df['InvoiceMonth'] = df['InvoiceDate'].apply(get_month)\n",
        "# groupby CustomerID & InvoiceMonth, assign min InvoiceMonth\n",
        "df['CohortMonth'] = df.groupby('CustomerID')['InvoiceMonth'].transform('min')\n",
        "df.head()"
      ]
    },
    {
      "cell_type": "markdown",
      "id": "81a4aec2-11f1-48c0-97a5-0cd8fa6589b1",
      "metadata": {
        "id": "81a4aec2-11f1-48c0-97a5-0cd8fa6589b1"
      },
      "source": [
        "### Calculate time offset in days "
      ]
    },
    {
      "cell_type": "code",
      "execution_count": null,
      "id": "437a1c1f-be83-4883-8248-cb807f889acf",
      "metadata": {
        "id": "437a1c1f-be83-4883-8248-cb807f889acf"
      },
      "outputs": [],
      "source": [
        "def get_dates(dates, column):\n",
        "    year = dates[column].dt.year\n",
        "    month = dates[column].dt.month\n",
        "    day = dates[column].dt.day\n",
        "    return year, month, day\n",
        "\n",
        "\n",
        "invoice_year, invoice_month, _ = get_dates(df, 'InvoiceMonth')\n",
        "cohort_year, cohort_month, _ = get_dates(df, 'CohortMonth')"
      ]
    },
    {
      "cell_type": "markdown",
      "id": "4d2c891b-a4f5-4e7b-85eb-b564a678fa18",
      "metadata": {
        "id": "4d2c891b-a4f5-4e7b-85eb-b564a678fa18"
      },
      "source": [
        "### Calculate time offset in days -2"
      ]
    },
    {
      "cell_type": "code",
      "execution_count": null,
      "id": "a02a9d4b-78fb-42ed-bb30-bd69f00f86b0",
      "metadata": {
        "id": "a02a9d4b-78fb-42ed-bb30-bd69f00f86b0"
      },
      "outputs": [],
      "source": [
        "# difference between invoice and cohort year & month\n",
        "year_diff = invoice_year - cohort_year\n",
        "month_diff = invoice_month - cohort_month\n",
        "# year_diff, month_diff"
      ]
    },
    {
      "cell_type": "code",
      "execution_count": null,
      "id": "b226b7af-ae91-49f5-801b-e1b624bc9b01",
      "metadata": {
        "id": "b226b7af-ae91-49f5-801b-e1b624bc9b01"
      },
      "outputs": [],
      "source": [
        "df['Cohort_index'] = year_diff * 12 + month_diff + 1\n",
        "# df['Cohort_index']"
      ]
    },
    {
      "cell_type": "code",
      "execution_count": null,
      "id": "0480c1f9-2c4b-475c-b51c-1e9d88bb43f1",
      "metadata": {
        "id": "0480c1f9-2c4b-475c-b51c-1e9d88bb43f1",
        "outputId": "28a44701-9efc-4894-b457-9855acc7a766"
      },
      "outputs": [
        {
          "data": {
            "text/html": [
              "<div>\n",
              "<style scoped>\n",
              "    .dataframe tbody tr th:only-of-type {\n",
              "        vertical-align: middle;\n",
              "    }\n",
              "\n",
              "    .dataframe tbody tr th {\n",
              "        vertical-align: top;\n",
              "    }\n",
              "\n",
              "    .dataframe thead th {\n",
              "        text-align: right;\n",
              "    }\n",
              "</style>\n",
              "<table border=\"1\" class=\"dataframe\">\n",
              "  <thead>\n",
              "    <tr style=\"text-align: right;\">\n",
              "      <th>Cohort_index</th>\n",
              "      <th>1</th>\n",
              "      <th>2</th>\n",
              "      <th>3</th>\n",
              "      <th>4</th>\n",
              "      <th>5</th>\n",
              "      <th>6</th>\n",
              "      <th>7</th>\n",
              "      <th>8</th>\n",
              "      <th>9</th>\n",
              "      <th>10</th>\n",
              "      <th>11</th>\n",
              "      <th>12</th>\n",
              "      <th>13</th>\n",
              "    </tr>\n",
              "    <tr>\n",
              "      <th>CohortMonth</th>\n",
              "      <th></th>\n",
              "      <th></th>\n",
              "      <th></th>\n",
              "      <th></th>\n",
              "      <th></th>\n",
              "      <th></th>\n",
              "      <th></th>\n",
              "      <th></th>\n",
              "      <th></th>\n",
              "      <th></th>\n",
              "      <th></th>\n",
              "      <th></th>\n",
              "      <th></th>\n",
              "    </tr>\n",
              "  </thead>\n",
              "  <tbody>\n",
              "    <tr>\n",
              "      <th>2010-12-01</th>\n",
              "      <td>716.0</td>\n",
              "      <td>246.0</td>\n",
              "      <td>221.0</td>\n",
              "      <td>251.0</td>\n",
              "      <td>245.0</td>\n",
              "      <td>285.0</td>\n",
              "      <td>249.0</td>\n",
              "      <td>236.0</td>\n",
              "      <td>240.0</td>\n",
              "      <td>265.0</td>\n",
              "      <td>254.0</td>\n",
              "      <td>348.0</td>\n",
              "      <td>172.0</td>\n",
              "    </tr>\n",
              "    <tr>\n",
              "      <th>2011-01-01</th>\n",
              "      <td>332.0</td>\n",
              "      <td>69.0</td>\n",
              "      <td>82.0</td>\n",
              "      <td>81.0</td>\n",
              "      <td>110.0</td>\n",
              "      <td>90.0</td>\n",
              "      <td>82.0</td>\n",
              "      <td>86.0</td>\n",
              "      <td>104.0</td>\n",
              "      <td>102.0</td>\n",
              "      <td>124.0</td>\n",
              "      <td>45.0</td>\n",
              "      <td>NaN</td>\n",
              "    </tr>\n",
              "    <tr>\n",
              "      <th>2011-02-01</th>\n",
              "      <td>316.0</td>\n",
              "      <td>58.0</td>\n",
              "      <td>57.0</td>\n",
              "      <td>83.0</td>\n",
              "      <td>85.0</td>\n",
              "      <td>74.0</td>\n",
              "      <td>80.0</td>\n",
              "      <td>83.0</td>\n",
              "      <td>86.0</td>\n",
              "      <td>95.0</td>\n",
              "      <td>28.0</td>\n",
              "      <td>NaN</td>\n",
              "      <td>NaN</td>\n",
              "    </tr>\n",
              "    <tr>\n",
              "      <th>2011-03-01</th>\n",
              "      <td>388.0</td>\n",
              "      <td>63.0</td>\n",
              "      <td>100.0</td>\n",
              "      <td>76.0</td>\n",
              "      <td>83.0</td>\n",
              "      <td>67.0</td>\n",
              "      <td>98.0</td>\n",
              "      <td>85.0</td>\n",
              "      <td>107.0</td>\n",
              "      <td>38.0</td>\n",
              "      <td>NaN</td>\n",
              "      <td>NaN</td>\n",
              "      <td>NaN</td>\n",
              "    </tr>\n",
              "    <tr>\n",
              "      <th>2011-04-01</th>\n",
              "      <td>255.0</td>\n",
              "      <td>49.0</td>\n",
              "      <td>52.0</td>\n",
              "      <td>49.0</td>\n",
              "      <td>47.0</td>\n",
              "      <td>52.0</td>\n",
              "      <td>56.0</td>\n",
              "      <td>59.0</td>\n",
              "      <td>17.0</td>\n",
              "      <td>NaN</td>\n",
              "      <td>NaN</td>\n",
              "      <td>NaN</td>\n",
              "      <td>NaN</td>\n",
              "    </tr>\n",
              "    <tr>\n",
              "      <th>2011-05-01</th>\n",
              "      <td>249.0</td>\n",
              "      <td>40.0</td>\n",
              "      <td>43.0</td>\n",
              "      <td>36.0</td>\n",
              "      <td>52.0</td>\n",
              "      <td>58.0</td>\n",
              "      <td>61.0</td>\n",
              "      <td>22.0</td>\n",
              "      <td>NaN</td>\n",
              "      <td>NaN</td>\n",
              "      <td>NaN</td>\n",
              "      <td>NaN</td>\n",
              "      <td>NaN</td>\n",
              "    </tr>\n",
              "    <tr>\n",
              "      <th>2011-06-01</th>\n",
              "      <td>207.0</td>\n",
              "      <td>33.0</td>\n",
              "      <td>26.0</td>\n",
              "      <td>41.0</td>\n",
              "      <td>49.0</td>\n",
              "      <td>62.0</td>\n",
              "      <td>19.0</td>\n",
              "      <td>NaN</td>\n",
              "      <td>NaN</td>\n",
              "      <td>NaN</td>\n",
              "      <td>NaN</td>\n",
              "      <td>NaN</td>\n",
              "      <td>NaN</td>\n",
              "    </tr>\n",
              "    <tr>\n",
              "      <th>2011-07-01</th>\n",
              "      <td>173.0</td>\n",
              "      <td>28.0</td>\n",
              "      <td>31.0</td>\n",
              "      <td>38.0</td>\n",
              "      <td>44.0</td>\n",
              "      <td>17.0</td>\n",
              "      <td>NaN</td>\n",
              "      <td>NaN</td>\n",
              "      <td>NaN</td>\n",
              "      <td>NaN</td>\n",
              "      <td>NaN</td>\n",
              "      <td>NaN</td>\n",
              "      <td>NaN</td>\n",
              "    </tr>\n",
              "    <tr>\n",
              "      <th>2011-08-01</th>\n",
              "      <td>139.0</td>\n",
              "      <td>30.0</td>\n",
              "      <td>28.0</td>\n",
              "      <td>35.0</td>\n",
              "      <td>14.0</td>\n",
              "      <td>NaN</td>\n",
              "      <td>NaN</td>\n",
              "      <td>NaN</td>\n",
              "      <td>NaN</td>\n",
              "      <td>NaN</td>\n",
              "      <td>NaN</td>\n",
              "      <td>NaN</td>\n",
              "      <td>NaN</td>\n",
              "    </tr>\n",
              "    <tr>\n",
              "      <th>2011-09-01</th>\n",
              "      <td>279.0</td>\n",
              "      <td>56.0</td>\n",
              "      <td>78.0</td>\n",
              "      <td>34.0</td>\n",
              "      <td>NaN</td>\n",
              "      <td>NaN</td>\n",
              "      <td>NaN</td>\n",
              "      <td>NaN</td>\n",
              "      <td>NaN</td>\n",
              "      <td>NaN</td>\n",
              "      <td>NaN</td>\n",
              "      <td>NaN</td>\n",
              "      <td>NaN</td>\n",
              "    </tr>\n",
              "    <tr>\n",
              "      <th>2011-10-01</th>\n",
              "      <td>318.0</td>\n",
              "      <td>67.0</td>\n",
              "      <td>30.0</td>\n",
              "      <td>NaN</td>\n",
              "      <td>NaN</td>\n",
              "      <td>NaN</td>\n",
              "      <td>NaN</td>\n",
              "      <td>NaN</td>\n",
              "      <td>NaN</td>\n",
              "      <td>NaN</td>\n",
              "      <td>NaN</td>\n",
              "      <td>NaN</td>\n",
              "      <td>NaN</td>\n",
              "    </tr>\n",
              "    <tr>\n",
              "      <th>2011-11-01</th>\n",
              "      <td>291.0</td>\n",
              "      <td>32.0</td>\n",
              "      <td>NaN</td>\n",
              "      <td>NaN</td>\n",
              "      <td>NaN</td>\n",
              "      <td>NaN</td>\n",
              "      <td>NaN</td>\n",
              "      <td>NaN</td>\n",
              "      <td>NaN</td>\n",
              "      <td>NaN</td>\n",
              "      <td>NaN</td>\n",
              "      <td>NaN</td>\n",
              "      <td>NaN</td>\n",
              "    </tr>\n",
              "    <tr>\n",
              "      <th>2011-12-01</th>\n",
              "      <td>38.0</td>\n",
              "      <td>NaN</td>\n",
              "      <td>NaN</td>\n",
              "      <td>NaN</td>\n",
              "      <td>NaN</td>\n",
              "      <td>NaN</td>\n",
              "      <td>NaN</td>\n",
              "      <td>NaN</td>\n",
              "      <td>NaN</td>\n",
              "      <td>NaN</td>\n",
              "      <td>NaN</td>\n",
              "      <td>NaN</td>\n",
              "      <td>NaN</td>\n",
              "    </tr>\n",
              "  </tbody>\n",
              "</table>\n",
              "</div>"
            ],
            "text/plain": [
              "Cohort_index     1      2      3      4      5      6      7      8      9   \\\n",
              "CohortMonth                                                                   \n",
              "2010-12-01    716.0  246.0  221.0  251.0  245.0  285.0  249.0  236.0  240.0   \n",
              "2011-01-01    332.0   69.0   82.0   81.0  110.0   90.0   82.0   86.0  104.0   \n",
              "2011-02-01    316.0   58.0   57.0   83.0   85.0   74.0   80.0   83.0   86.0   \n",
              "2011-03-01    388.0   63.0  100.0   76.0   83.0   67.0   98.0   85.0  107.0   \n",
              "2011-04-01    255.0   49.0   52.0   49.0   47.0   52.0   56.0   59.0   17.0   \n",
              "2011-05-01    249.0   40.0   43.0   36.0   52.0   58.0   61.0   22.0    NaN   \n",
              "2011-06-01    207.0   33.0   26.0   41.0   49.0   62.0   19.0    NaN    NaN   \n",
              "2011-07-01    173.0   28.0   31.0   38.0   44.0   17.0    NaN    NaN    NaN   \n",
              "2011-08-01    139.0   30.0   28.0   35.0   14.0    NaN    NaN    NaN    NaN   \n",
              "2011-09-01    279.0   56.0   78.0   34.0    NaN    NaN    NaN    NaN    NaN   \n",
              "2011-10-01    318.0   67.0   30.0    NaN    NaN    NaN    NaN    NaN    NaN   \n",
              "2011-11-01    291.0   32.0    NaN    NaN    NaN    NaN    NaN    NaN    NaN   \n",
              "2011-12-01     38.0    NaN    NaN    NaN    NaN    NaN    NaN    NaN    NaN   \n",
              "\n",
              "Cohort_index     10     11     12     13  \n",
              "CohortMonth                               \n",
              "2010-12-01    265.0  254.0  348.0  172.0  \n",
              "2011-01-01    102.0  124.0   45.0    NaN  \n",
              "2011-02-01     95.0   28.0    NaN    NaN  \n",
              "2011-03-01     38.0    NaN    NaN    NaN  \n",
              "2011-04-01      NaN    NaN    NaN    NaN  \n",
              "2011-05-01      NaN    NaN    NaN    NaN  \n",
              "2011-06-01      NaN    NaN    NaN    NaN  \n",
              "2011-07-01      NaN    NaN    NaN    NaN  \n",
              "2011-08-01      NaN    NaN    NaN    NaN  \n",
              "2011-09-01      NaN    NaN    NaN    NaN  \n",
              "2011-10-01      NaN    NaN    NaN    NaN  \n",
              "2011-11-01      NaN    NaN    NaN    NaN  \n",
              "2011-12-01      NaN    NaN    NaN    NaN  "
            ]
          },
          "execution_count": 12,
          "metadata": {},
          "output_type": "execute_result"
        }
      ],
      "source": [
        "#cohort analysis 1\n",
        "cohort_data = df.groupby(['CohortMonth', 'Cohort_index'])['CustomerID'].apply(pd.Series.nunique).reset_index()\n",
        "\n",
        "count = cohort_data.pivot_table(index = 'CohortMonth',\n",
        "                               columns = 'Cohort_index',\n",
        "                               values = 'CustomerID')\n",
        "count"
      ]
    },
    {
      "cell_type": "markdown",
      "id": "c7dd5c02-8b33-4110-9a41-5464ea47bae5",
      "metadata": {
        "id": "c7dd5c02-8b33-4110-9a41-5464ea47bae5"
      },
      "source": [
        "### retention as percentage"
      ]
    },
    {
      "cell_type": "code",
      "execution_count": null,
      "id": "e1c3598b-45fc-402c-b9ed-c0929ba782c6",
      "metadata": {
        "id": "e1c3598b-45fc-402c-b9ed-c0929ba782c6"
      },
      "outputs": [],
      "source": [
        "cohort_size = count.iloc[:,0] \n",
        "retention = count.divide(cohort_size,axis = 0).round(1)"
      ]
    },
    {
      "cell_type": "code",
      "execution_count": null,
      "id": "66e2cc68-346d-4bd5-9afa-ca7f2d61fd2d",
      "metadata": {
        "id": "66e2cc68-346d-4bd5-9afa-ca7f2d61fd2d",
        "outputId": "2fe42d8b-9934-488a-d7cd-360548e88258"
      },
      "outputs": [
        {
          "data": {
            "image/png": "[encoded data removed]",
            "text/plain": [
              "<Figure size 1080x504 with 2 Axes>"
            ]
          },
          "metadata": {},
          "output_type": "display_data"
        }
      ],
      "source": [
        "# visualize\n",
        "plt.figure(figsize = (15,7))\n",
        "plt.title('Cohort Monthly Analysis-Retention Rate')\n",
        "sns.heatmap(data = retention,\n",
        "           annot = True,\n",
        "           fmt = '.0%',\n",
        "           vmin = 0.0,\n",
        "           cmap = 'PuBuGn')\n",
        "plt.show()"
      ]
    },
    {
      "cell_type": "markdown",
      "id": "752048f5",
      "metadata": {
        "id": "752048f5"
      },
      "source": [
        "* there is an retention rate of 34% for the Cohort Month 2010–12–01, with the highest retention rate occurring after 11 months 49% \n",
        "* despite the drop off in Month 12, 30-40% of visitors were still coming back until then.\n",
        "* the highest retention rate was in the last 3 months (August– October2011).\n",
        "* For all the other Cohort Months, the average retention rates are around 18–30%."
      ]
    }
  ],
  "metadata": {
    "kernelspec": {
      "display_name": "Python 3",
      "language": "python",
      "name": "python3"
    },
    "language_info": {
      "codemirror_mode": {
        "name": "ipython",
        "version": 3
      },
      "file_extension": ".py",
      "mimetype": "text/x-python",
      "name": "python",
      "nbconvert_exporter": "python",
      "pygments_lexer": "ipython3",
      "version": "3.8.10"
    },
    "colab": {
      "name": "cohort.ipynb",
      "provenance": [],
      "include_colab_link": true
    }
  },
  "nbformat": 4,
  "nbformat_minor": 5
}